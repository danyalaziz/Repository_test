{
  "cells": [
    {
      "cell_type": "markdown",
      "metadata": {
        "id": "rd9rH9-3GQAt"
      },
      "source": [
        "# Exercise 1\n",
        "Due date: 2022-01-31\n",
        "\n",
        "File name convention: For group 42 and memebers Richard Stallman and Linus Torvalds it would be \n",
        "\"01_Classification_Goup42_Stallman_Torvalds.pdf\".\n",
        "\n",
        "Submission via blackboard (UA) or google form (LPC)."
      ]
    },
    {
      "cell_type": "code",
      "execution_count": 181,
      "metadata": {
        "ExecuteTime": {
          "end_time": "2022-01-10T01:53:39.046719Z",
          "start_time": "2022-01-10T01:53:39.044560Z"
        },
        "id": "zRFmqgYgGQAv"
      },
      "outputs": [],
      "source": [
        "group_name = \"Group12\"\n",
        "group_members = [\"Aziz\", \n",
        "         \"Rathore\", \n",
        "         \"Sohrabi\"]"
      ]
    },
    {
      "cell_type": "markdown",
      "metadata": {
        "id": "e0iCvRprGQAv"
      },
      "source": [
        "**Chapter 3 – Classification**"
      ]
    },
    {
      "cell_type": "markdown",
      "metadata": {
        "id": "Gk8D0AIlGQAw"
      },
      "source": [
        "<table align=\"left\">\n",
        "  <td>\n",
        "    <a target=\"_blank\" href=\"https://colab.research.google.com/github/UAPH4582/PH482_582_Sp22/blob/main/Exercises/01_Classification.ipynb\"><img src=\"https://www.tensorflow.org/images/colab_logo_32px.png\" />Run in Google Colab</a>\n",
        "  </td>\n",
        "</table>"
      ]
    },
    {
      "cell_type": "markdown",
      "metadata": {
        "id": "ZGfioVPzGQAw"
      },
      "source": [
        "# Setup"
      ]
    },
    {
      "cell_type": "markdown",
      "metadata": {
        "id": "ckfplLIwGQAw"
      },
      "source": [
        "First, let's import a few common modules, ensure MatplotLib plots figures inline and prepare a function to save the figures. We also check that Python 3.5 or later is installed (although Python 2.x may work, it is deprecated so we strongly recommend you use Python 3 instead), as well as Scikit-Learn ≥0.20."
      ]
    },
    {
      "cell_type": "code",
      "execution_count": 93,
      "metadata": {
        "ExecuteTime": {
          "end_time": "2022-01-10T01:54:19.845061Z",
          "start_time": "2022-01-10T01:54:16.632650Z"
        },
        "id": "SihiQBZ2GQAw"
      },
      "outputs": [],
      "source": [
        "# Python ≥3.5 is required\n",
        "import sys\n",
        "assert sys.version_info >= (3, 5)\n",
        "\n",
        "# Scikit-Learn ≥0.20 is required\n",
        "import sklearn\n",
        "assert sklearn.__version__ >= \"0.20\"\n",
        "\n",
        "# Common imports\n",
        "import numpy as np\n",
        "import os\n",
        "\n",
        "# to make this notebook's output stable across runs\n",
        "np.random.seed(42)\n",
        "\n",
        "# To plot pretty figures\n",
        "%matplotlib inline\n",
        "import matplotlib as mpl\n",
        "import matplotlib.pyplot as plt\n",
        "mpl.rc('axes', labelsize=14)\n",
        "mpl.rc('xtick', labelsize=12)\n",
        "mpl.rc('ytick', labelsize=12)"
      ]
    },
    {
      "cell_type": "markdown",
      "metadata": {
        "id": "_QJNwKH3GQAx"
      },
      "source": [
        "# MNIST"
      ]
    },
    {
      "cell_type": "code",
      "execution_count": 94,
      "metadata": {
        "ExecuteTime": {
          "end_time": "2022-01-10T01:55:02.842629Z",
          "start_time": "2022-01-10T01:54:19.847889Z"
        },
        "id": "4SXntkeGGQAy",
        "outputId": "dd30e291-ccf0-48bd-d8d8-3ec7489ab055",
        "colab": {
          "base_uri": "https://localhost:8080/",
          "height": 0
        }
      },
      "outputs": [
        {
          "output_type": "execute_result",
          "data": {
            "text/plain": [
              "dict_keys(['data', 'target', 'frame', 'categories', 'feature_names', 'target_names', 'DESCR', 'details', 'url'])"
            ]
          },
          "metadata": {},
          "execution_count": 94
        }
      ],
      "source": [
        "from sklearn.datasets import fetch_openml\n",
        "mnist = fetch_openml('mnist_784', version=1)\n",
        "mnist.keys()"
      ]
    },
    {
      "cell_type": "code",
      "execution_count": 95,
      "metadata": {
        "ExecuteTime": {
          "end_time": "2022-01-10T02:00:36.982978Z",
          "start_time": "2022-01-10T02:00:36.979983Z"
        },
        "id": "t7blMaMXGQAy"
      },
      "outputs": [],
      "source": [
        "X, y = mnist[\"data\"], mnist[\"target\"]"
      ]
    },
    {
      "cell_type": "code",
      "execution_count": 96,
      "metadata": {
        "ExecuteTime": {
          "end_time": "2022-01-10T02:00:37.437578Z",
          "start_time": "2022-01-10T02:00:37.434766Z"
        },
        "id": "4S-IvpbwGQAy",
        "outputId": "97a723d4-166a-4c48-bf99-351ade0debdc",
        "colab": {
          "base_uri": "https://localhost:8080/",
          "height": 0
        }
      },
      "outputs": [
        {
          "output_type": "stream",
          "name": "stdout",
          "text": [
            "<class 'pandas.core.frame.DataFrame'>\n",
            "(70000, 784)\n"
          ]
        }
      ],
      "source": [
        "# X is a pandas dataframe\n",
        "print(type(X))\n",
        "print(X.shape)"
      ]
    },
    {
      "cell_type": "code",
      "execution_count": 97,
      "metadata": {
        "ExecuteTime": {
          "end_time": "2022-01-10T01:56:26.253034Z",
          "start_time": "2022-01-10T01:56:26.248595Z"
        },
        "id": "C9J3vW0dGQAy",
        "outputId": "bd45ab9c-ba2f-4049-dea2-761a9bab7cc3",
        "colab": {
          "base_uri": "https://localhost:8080/",
          "height": 0
        }
      },
      "outputs": [
        {
          "output_type": "execute_result",
          "data": {
            "text/plain": [
              "(70000,)"
            ]
          },
          "metadata": {},
          "execution_count": 97
        }
      ],
      "source": [
        "y.shape"
      ]
    },
    {
      "cell_type": "code",
      "execution_count": 98,
      "metadata": {
        "ExecuteTime": {
          "end_time": "2022-01-10T01:56:51.429142Z",
          "start_time": "2022-01-10T01:56:51.425887Z"
        },
        "id": "wtK2iOxEGQAz",
        "outputId": "d0cb268a-9b9c-41b0-de60-98a04202e09c",
        "colab": {
          "base_uri": "https://localhost:8080/",
          "height": 0
        }
      },
      "outputs": [
        {
          "output_type": "execute_result",
          "data": {
            "text/plain": [
              "784"
            ]
          },
          "metadata": {},
          "execution_count": 98
        }
      ],
      "source": [
        "# the images are 28x28 pixels\n",
        "28 * 28"
      ]
    },
    {
      "cell_type": "code",
      "execution_count": 99,
      "metadata": {
        "ExecuteTime": {
          "end_time": "2022-01-10T01:58:08.508030Z",
          "start_time": "2022-01-10T01:58:08.505167Z"
        },
        "id": "4hxu-wRNGQAz"
      },
      "outputs": [],
      "source": [
        "import matplotlib as mpl\n",
        "import matplotlib.pyplot as plt\n",
        "\n",
        "def plot_digit(data):\n",
        "    image = data.reshape(28, 28)\n",
        "    plt.imshow(image, cmap = mpl.cm.binary,\n",
        "               interpolation=\"nearest\")\n",
        "    plt.axis(\"off\")"
      ]
    },
    {
      "cell_type": "code",
      "execution_count": 100,
      "metadata": {
        "ExecuteTime": {
          "end_time": "2022-01-10T02:01:33.770390Z",
          "start_time": "2022-01-10T02:01:33.708820Z"
        },
        "id": "WMz5UtAuGQAz",
        "outputId": "002ad7aa-90e2-450b-fd79-16c8c06c1fbb",
        "colab": {
          "base_uri": "https://localhost:8080/",
          "height": 248
        }
      },
      "outputs": [
        {
          "output_type": "display_data",
          "data": {
            "image/png": "[encoded data removed]",
            "text/plain": [
              "<Figure size 432x288 with 1 Axes>"
            ]
          },
          "metadata": {
            "needs_background": "light"
          }
        }
      ],
      "source": [
        "%matplotlib inline\n",
        "\n",
        "# to get the values of the dataframe X, call X.values.\n",
        "# X.values[0] gives the pixel values for the first image\n",
        "plot_digit(X.values[0])"
      ]
    },
    {
      "cell_type": "code",
      "execution_count": 101,
      "metadata": {
        "ExecuteTime": {
          "end_time": "2022-01-10T02:02:05.234303Z",
          "start_time": "2022-01-10T02:02:05.226839Z"
        },
        "id": "YjozEKRfGQAz",
        "outputId": "a3d2ce75-d2d5-4fd3-f5f7-861e0dec40e6",
        "colab": {
          "base_uri": "https://localhost:8080/",
          "height": 35
        }
      },
      "outputs": [
        {
          "output_type": "execute_result",
          "data": {
            "application/vnd.google.colaboratory.intrinsic+json": {
              "type": "string"
            },
            "text/plain": [
              "'5'"
            ]
          },
          "metadata": {},
          "execution_count": 101
        }
      ],
      "source": [
        "# the label of the first image.\n",
        "# note that it's a string and not an int\n",
        "y[0]"
      ]
    },
    {
      "cell_type": "code",
      "execution_count": 102,
      "metadata": {
        "ExecuteTime": {
          "end_time": "2022-01-10T02:02:06.057368Z",
          "start_time": "2022-01-10T02:02:06.052027Z"
        },
        "id": "EOseo-0eGQAz"
      },
      "outputs": [],
      "source": [
        "y = y.astype(np.uint8)"
      ]
    },
    {
      "cell_type": "code",
      "execution_count": 103,
      "metadata": {
        "ExecuteTime": {
          "end_time": "2022-01-10T02:02:08.765565Z",
          "start_time": "2022-01-10T02:02:08.757789Z"
        },
        "id": "HOXyZ6UjGQA0"
      },
      "outputs": [],
      "source": [
        "def plot_digits(instances, images_per_row=10, **options):\n",
        "    size = 28\n",
        "    images_per_row = min(len(instances), images_per_row)\n",
        "    images = [instance.reshape(size,size) for instance in instances]\n",
        "    n_rows = (len(instances) - 1) // images_per_row + 1\n",
        "    row_images = []\n",
        "    n_empty = n_rows * images_per_row - len(instances)\n",
        "    images.append(np.zeros((size, size * n_empty)))\n",
        "    for row in range(n_rows):\n",
        "        rimages = images[row * images_per_row : (row + 1) * images_per_row]\n",
        "        row_images.append(np.concatenate(rimages, axis=1))\n",
        "    image = np.concatenate(row_images, axis=0)\n",
        "    plt.imshow(image, cmap = mpl.cm.binary, **options)\n",
        "    plt.axis(\"off\")"
      ]
    },
    {
      "cell_type": "code",
      "execution_count": 104,
      "metadata": {
        "ExecuteTime": {
          "end_time": "2022-01-10T02:02:09.411927Z",
          "start_time": "2022-01-10T02:02:09.291466Z"
        },
        "id": "t9gPxl07GQA0",
        "outputId": "57fbfa41-5d49-4107-a7ed-da6b2d494a88",
        "colab": {
          "base_uri": "https://localhost:8080/",
          "height": 520
        }
      },
      "outputs": [
        {
          "output_type": "display_data",
          "data": {
            "image/png": "[encoded data removed]",
            "text/plain": [
              "<Figure size 648x648 with 1 Axes>"
            ]
          },
          "metadata": {
            "needs_background": "light"
          }
        }
      ],
      "source": [
        "plt.figure(figsize=(9,9))\n",
        "example_images = X[:100].values\n",
        "plot_digits(example_images, images_per_row=10)\n",
        "plt.show()"
      ]
    },
    {
      "cell_type": "code",
      "execution_count": 105,
      "metadata": {
        "ExecuteTime": {
          "end_time": "2022-01-10T02:02:17.339432Z",
          "start_time": "2022-01-10T02:02:17.335354Z"
        },
        "id": "FdalTFocGQA0",
        "outputId": "eeea59b5-7eb5-45a2-87ad-a26e6a8433bf",
        "colab": {
          "base_uri": "https://localhost:8080/",
          "height": 0
        }
      },
      "outputs": [
        {
          "output_type": "execute_result",
          "data": {
            "text/plain": [
              "5"
            ]
          },
          "metadata": {},
          "execution_count": 105
        }
      ],
      "source": [
        "# note it is an int now\n",
        "y[0]"
      ]
    },
    {
      "cell_type": "code",
      "execution_count": 106,
      "metadata": {
        "ExecuteTime": {
          "end_time": "2022-01-10T02:02:20.551783Z",
          "start_time": "2022-01-10T02:02:20.548544Z"
        },
        "id": "oxfIxNvqGQA0"
      },
      "outputs": [],
      "source": [
        "X_train, X_test, y_train, y_test = X[:60000], X[60000:], y[:60000], y[60000:]"
      ]
    },
    {
      "cell_type": "markdown",
      "metadata": {
        "id": "ZBSdbAhpGQA0"
      },
      "source": [
        "# Binary classifier\n",
        "Let's train a classifier to predict the digit is a 5 or not."
      ]
    },
    {
      "cell_type": "code",
      "execution_count": 107,
      "metadata": {
        "ExecuteTime": {
          "end_time": "2022-01-10T02:37:29.079858Z",
          "start_time": "2022-01-10T02:37:29.076438Z"
        },
        "id": "KMoRGg97GQA0"
      },
      "outputs": [],
      "source": [
        "y_train_5 = (y_train == 5)\n",
        "y_test_5 = (y_test == 5)"
      ]
    },
    {
      "cell_type": "markdown",
      "metadata": {
        "id": "TQ0ZYJ9YGQA0"
      },
      "source": [
        "## Task 1: SGD Classifier\n",
        "1) Create an [SGD Classifier](https://scikit-learn.org/stable/modules/generated/sklearn.linear_model.SGDClassifier.html) `sgd_clf` with the following hyperparameters:  `max_iter=1000`, `tol=1e-3`, `random_state=42`  \n",
        "2) Fit the classifier by calling its `fit` function with `X_train` and `y_train_5` as the parameters. This might take a while."
      ]
    },
    {
      "cell_type": "code",
      "execution_count": 108,
      "metadata": {
        "ExecuteTime": {
          "end_time": "2022-01-10T02:37:31.821393Z",
          "start_time": "2022-01-10T02:37:31.819211Z"
        },
        "id": "qRP0LcPhGQA1"
      },
      "outputs": [],
      "source": [
        "from sklearn.linear_model import SGDClassifier"
      ]
    },
    {
      "cell_type": "code",
      "execution_count": 109,
      "metadata": {
        "ExecuteTime": {
          "end_time": "2022-01-10T02:37:32.787095Z",
          "start_time": "2022-01-10T02:37:32.784826Z"
        },
        "id": "fFKlu4RYGQA1"
      },
      "outputs": [],
      "source": [
        "# your code goes below\n",
        "# ↓↓↓↓↓↓↓↓↓↓↓↓↓↓↓↓↓↓↓↓↓↓↓↓↓↓↓↓↓↓↓"
      ]
    },
    {
      "cell_type": "code",
      "execution_count": 110,
      "metadata": {
        "ExecuteTime": {
          "end_time": "2022-01-10T02:37:33.392727Z",
          "start_time": "2022-01-10T02:37:33.390073Z"
        },
        "id": "n7LXRnvEGQA1"
      },
      "outputs": [],
      "source": [
        "sgd_clf = SGDClassifier(max_iter=1000, tol=1e-3)"
      ]
    },
    {
      "cell_type": "code",
      "execution_count": 111,
      "metadata": {
        "id": "oIYH-N9nGQA1",
        "outputId": "0a4ce139-22e1-472c-a723-65bda1e07d9e",
        "colab": {
          "base_uri": "https://localhost:8080/",
          "height": 0
        }
      },
      "outputs": [
        {
          "output_type": "execute_result",
          "data": {
            "text/plain": [
              "SGDClassifier()"
            ]
          },
          "metadata": {},
          "execution_count": 111
        }
      ],
      "source": [
        "# fit the sgd_clf\n",
        "sgd_clf.fit(X_train,y_train_5)"
      ]
    },
    {
      "cell_type": "code",
      "execution_count": 112,
      "metadata": {
        "ExecuteTime": {
          "end_time": "2022-01-10T02:37:56.559704Z",
          "start_time": "2022-01-10T02:37:56.557081Z"
        },
        "id": "A9IqnLsaGQA1"
      },
      "outputs": [],
      "source": [
        "# ↑↑↑↑↑↑↑↑↑↑↑↑↑↑↑↑↑↑↑↑↑↑↑↑↑↑↑↑↑↑↑\n",
        "# your code goes above this"
      ]
    },
    {
      "cell_type": "code",
      "execution_count": 113,
      "metadata": {
        "ExecuteTime": {
          "end_time": "2022-01-10T02:37:56.571471Z",
          "start_time": "2022-01-10T02:37:56.568702Z"
        },
        "id": "cduSUO-aGQA1"
      },
      "outputs": [],
      "source": [
        "# let's test the model on an example. Feel free to play around and try more."
      ]
    },
    {
      "cell_type": "code",
      "execution_count": 182,
      "metadata": {
        "ExecuteTime": {
          "end_time": "2022-01-10T02:37:56.596805Z",
          "start_time": "2022-01-10T02:37:56.575283Z"
        },
        "id": "SqljwKysGQA1",
        "outputId": "e7f64215-c408-464c-e21e-d29e466b627e",
        "colab": {
          "base_uri": "https://localhost:8080/",
          "height": 0
        }
      },
      "outputs": [
        {
          "output_type": "execute_result",
          "data": {
            "text/plain": [
              "array([False])"
            ]
          },
          "metadata": {},
          "execution_count": 182
        }
      ],
      "source": [
        "sgd_clf.predict(X_test[0:1])"
      ]
    },
    {
      "cell_type": "code",
      "execution_count": 183,
      "metadata": {
        "ExecuteTime": {
          "end_time": "2022-01-10T02:37:56.656502Z",
          "start_time": "2022-01-10T02:37:56.598935Z"
        },
        "id": "nuJDIoz0GQA1",
        "outputId": "edba43bb-82df-49de-f685-c666fdbfd4b1",
        "colab": {
          "base_uri": "https://localhost:8080/",
          "height": 248
        }
      },
      "outputs": [
        {
          "output_type": "display_data",
          "data": {
            "image/png": "[encoded data removed]",
            "text/plain": [
              "<Figure size 432x288 with 1 Axes>"
            ]
          },
          "metadata": {
            "needs_background": "light"
          }
        }
      ],
      "source": [
        "plot_digit(X_test[0:1].values)"
      ]
    },
    {
      "cell_type": "markdown",
      "metadata": {
        "id": "M0T5BcvwGQA1"
      },
      "source": [
        "## Task 2: Cross Validation of SGD Classifier\n",
        "\n",
        "1) Calculate the [cross-validation score](https://scikit-learn.org/stable/modules/generated/sklearn.model_selection.cross_val_score.html) of the `sgd_clf` classifier with the train data. Use `cv=3` and `scoring=\"accuracy\"`.    \n",
        "\n",
        "2) a) Explain what cross validation is."
      ]
    },
    {
      "cell_type": "code",
      "execution_count": 116,
      "metadata": {
        "ExecuteTime": {
          "end_time": "2022-01-10T02:37:56.660863Z",
          "start_time": "2022-01-10T02:37:56.658232Z"
        },
        "id": "tRQhhyDLGQA1"
      },
      "outputs": [],
      "source": [
        "from sklearn.model_selection import cross_val_score"
      ]
    },
    {
      "cell_type": "code",
      "execution_count": 117,
      "metadata": {
        "ExecuteTime": {
          "end_time": "2022-01-10T02:37:56.665347Z",
          "start_time": "2022-01-10T02:37:56.662836Z"
        },
        "id": "C-syfe0oGQA1"
      },
      "outputs": [],
      "source": [
        "# your code goes below\n",
        "# ↓↓↓↓↓↓↓↓↓↓↓↓↓↓↓↓↓↓↓↓↓↓↓↓↓↓↓↓↓↓↓"
      ]
    },
    {
      "cell_type": "code",
      "execution_count": 193,
      "metadata": {
        "ExecuteTime": {
          "end_time": "2022-01-10T02:38:26.711177Z",
          "start_time": "2022-01-10T02:37:56.667271Z"
        },
        "id": "LJXmSMH7GQA1",
        "outputId": "74890926-7b44-4344-e02f-ca5168084669",
        "colab": {
          "base_uri": "https://localhost:8080/",
          "height": 0
        }
      },
      "outputs": [
        {
          "output_type": "stream",
          "name": "stdout",
          "text": [
            "[0.96035 0.95565 0.9525 ]\n"
          ]
        }
      ],
      "source": [
        "# cross val score \n",
        "print(cross_val_score(sgd_clf, X_train, y_train_5, cv=3, scoring=\"accuracy\"))"
      ]
    },
    {
      "cell_type": "code",
      "execution_count": 119,
      "metadata": {
        "ExecuteTime": {
          "end_time": "2022-01-10T02:38:26.722204Z",
          "start_time": "2022-01-10T02:38:26.718771Z"
        },
        "id": "T4H46VJAGQA2"
      },
      "outputs": [],
      "source": [
        "task2a_explanation = \"\"\"a technique used in machine learning to assess the peroformance of a model on a subset of the inupt(training)\n",
        "data that the model has not yet seen\"\"\""
      ]
    },
    {
      "cell_type": "code",
      "execution_count": 120,
      "metadata": {
        "ExecuteTime": {
          "end_time": "2022-01-10T02:38:26.727838Z",
          "start_time": "2022-01-10T02:38:26.724839Z"
        },
        "id": "9bBoVYZeGQA2"
      },
      "outputs": [],
      "source": [
        "# ↑↑↑↑↑↑↑↑↑↑↑↑↑↑↑↑↑↑↑↑↑↑↑↑↑↑↑↑↑↑↑\n",
        "# your code goes above this"
      ]
    },
    {
      "cell_type": "markdown",
      "metadata": {
        "id": "cuMLK_WrGQA2"
      },
      "source": [
        "Here is some code for a [stratified k-fold cross validation](https://scikit-learn.org/stable/modules/generated/sklearn.model_selection.StratifiedKFold.html)\n",
        "\n",
        "2) b) Explain stratified cross validation"
      ]
    },
    {
      "cell_type": "code",
      "execution_count": 121,
      "metadata": {
        "ExecuteTime": {
          "end_time": "2022-01-10T02:40:36.529884Z",
          "start_time": "2022-01-10T02:39:59.858664Z"
        },
        "id": "imIE25B5GQA2",
        "outputId": "e3a60dbf-8b75-4765-d6b7-4de7ca7c44c8",
        "colab": {
          "base_uri": "https://localhost:8080/",
          "height": 0
        }
      },
      "outputs": [
        {
          "metadata": {
            "tags": null
          },
          "name": "stdout",
          "output_type": "stream",
          "text": [
            "0.96785\n",
            "0.96555\n",
            "0.9648\n"
          ]
        }
      ],
      "source": [
        "from sklearn.model_selection import StratifiedKFold\n",
        "from sklearn.base import clone\n",
        "\n",
        "skfolds = StratifiedKFold(n_splits=3, shuffle=True, random_state=42)\n",
        "\n",
        "for train_index, test_index in skfolds.split(X_train, y_train_5):\n",
        "    clone_clf = clone(sgd_clf)\n",
        "    X_train_folds = X_train.values[train_index]\n",
        "    y_train_folds = y_train_5[train_index]\n",
        "    X_test_fold = X_train.values[test_index]\n",
        "    y_test_fold = y_train_5[test_index]\n",
        "\n",
        "    clone_clf.fit(X_train_folds, y_train_folds)\n",
        "    y_pred = clone_clf.predict(X_test_fold)\n",
        "    n_correct = sum(y_pred == y_test_fold)\n",
        "    print(n_correct / len(y_pred))"
      ]
    },
    {
      "cell_type": "code",
      "execution_count": 122,
      "metadata": {
        "ExecuteTime": {
          "end_time": "2022-01-10T02:38:26.785392Z",
          "start_time": "2022-01-10T02:38:26.785373Z"
        },
        "id": "JGLX3GmkGQA2"
      },
      "outputs": [],
      "source": [
        "# your code goes below\n",
        "# ↓↓↓↓↓↓↓↓↓↓↓↓↓↓↓↓↓↓↓↓↓↓↓↓↓↓↓↓↓↓↓"
      ]
    },
    {
      "cell_type": "code",
      "execution_count": 123,
      "metadata": {
        "ExecuteTime": {
          "end_time": "2022-01-10T02:38:26.787293Z",
          "start_time": "2022-01-10T02:38:26.787266Z"
        },
        "id": "5MB8WridGQA2"
      },
      "outputs": [],
      "source": [
        "task2b_explanation = \"\"\"a form of cross validation using stratified sampling to ensure same features across training and\n",
        "test data sets to make sure that no values are over or under represented in train-test data sets. Stratified cross validation\n",
        "gives a more accurrate estimation of model's performance\"\"\""
      ]
    },
    {
      "cell_type": "code",
      "execution_count": 124,
      "metadata": {
        "ExecuteTime": {
          "end_time": "2022-01-10T02:38:26.788742Z",
          "start_time": "2022-01-10T02:38:26.788723Z"
        },
        "id": "-dZLG5e3GQA2"
      },
      "outputs": [],
      "source": [
        "# ↑↑↑↑↑↑↑↑↑↑↑↑↑↑↑↑↑↑↑↑↑↑↑↑↑↑↑↑↑↑↑\n",
        "# your code goes above this"
      ]
    },
    {
      "cell_type": "markdown",
      "metadata": {
        "id": "M85JSXVaGQA2"
      },
      "source": [
        "# Never 5 Classifier\n",
        "This classifier always predicts 0"
      ]
    },
    {
      "cell_type": "code",
      "execution_count": 125,
      "metadata": {
        "ExecuteTime": {
          "end_time": "2022-01-10T02:41:03.538009Z",
          "start_time": "2022-01-10T02:41:03.534819Z"
        },
        "id": "DGSdgTBQGQA2"
      },
      "outputs": [],
      "source": [
        "from sklearn.base import BaseEstimator\n",
        "class Never5Classifier(BaseEstimator):\n",
        "    def fit(self, X, y=None):\n",
        "        pass\n",
        "    def predict(self, X):\n",
        "        return np.zeros((len(X), 1), dtype=bool)"
      ]
    },
    {
      "cell_type": "code",
      "execution_count": 126,
      "metadata": {
        "ExecuteTime": {
          "end_time": "2022-01-10T02:41:05.070439Z",
          "start_time": "2022-01-10T02:41:04.496485Z"
        },
        "id": "yfuMAWXLGQA2",
        "outputId": "2a22d5b8-fed8-4081-9c9c-32cf04f13df3",
        "colab": {
          "base_uri": "https://localhost:8080/",
          "height": 0
        }
      },
      "outputs": [
        {
          "data": {
            "text/plain": [
              "array([0.91125, 0.90855, 0.90915])"
            ]
          },
          "execution_count": null,
          "metadata": {},
          "output_type": "execute_result"
        }
      ],
      "source": [
        "never_5_clf = Never5Classifier()\n",
        "cross_val_score(never_5_clf, X_train, y_train_5, cv=3, scoring=\"accuracy\")"
      ]
    },
    {
      "cell_type": "markdown",
      "metadata": {
        "id": "0OUlsv3JGQA2"
      },
      "source": [
        "## Task 3\n",
        "Explain why the \"never 5 classifier\" still has such \"high\" scores."
      ]
    },
    {
      "cell_type": "code",
      "execution_count": 127,
      "metadata": {
        "ExecuteTime": {
          "end_time": "2022-01-10T02:41:42.490905Z",
          "start_time": "2022-01-10T02:41:42.488122Z"
        },
        "id": "rwovB6VOGQA2"
      },
      "outputs": [],
      "source": [
        "# your code goes below\n",
        "# ↓↓↓↓↓↓↓↓↓↓↓↓↓↓↓↓↓↓↓↓↓↓↓↓↓↓↓↓↓↓↓"
      ]
    },
    {
      "cell_type": "code",
      "execution_count": 128,
      "metadata": {
        "ExecuteTime": {
          "end_time": "2022-01-10T02:45:31.611156Z",
          "start_time": "2022-01-10T02:45:31.608281Z"
        },
        "id": "ypKR_fPyGQA2"
      },
      "outputs": [],
      "source": [
        "task3_explanation = \"\"\" The classifier is trained on a set that contains images of digit 5 only and then is evaluated on another set\n",
        "to classify images as either 5 or not 5. The accuracy number can be interprested as 10% of the images in the set are digit 5, and\n",
        "the data is skewed meaning accurracy as a scoring measure is not very accurate representation of the model performance here \"\"\""
      ]
    },
    {
      "cell_type": "code",
      "execution_count": 129,
      "metadata": {
        "ExecuteTime": {
          "end_time": "2022-01-10T02:32:57.136710Z",
          "start_time": "2022-01-10T02:32:57.134515Z"
        },
        "id": "SgfKiY07GQA2"
      },
      "outputs": [],
      "source": [
        "# ↑↑↑↑↑↑↑↑↑↑↑↑↑↑↑↑↑↑↑↑↑↑↑↑↑↑↑↑↑↑↑\n",
        "# your code goes above this"
      ]
    },
    {
      "cell_type": "markdown",
      "metadata": {
        "id": "kV_bZAGaGQA2"
      },
      "source": [
        "Back to the real classifier: `sgd_clf`"
      ]
    },
    {
      "cell_type": "code",
      "execution_count": 130,
      "metadata": {
        "ExecuteTime": {
          "end_time": "2022-01-10T02:41:42.480076Z",
          "start_time": "2022-01-10T02:41:12.452682Z"
        },
        "id": "u3tDSM9YGQA2"
      },
      "outputs": [],
      "source": [
        "from sklearn.model_selection import cross_val_predict\n",
        "\n",
        "y_train_pred = cross_val_predict(sgd_clf, X_train, y_train_5, cv=3)"
      ]
    },
    {
      "cell_type": "markdown",
      "metadata": {
        "id": "_R0p9JaBGQA2"
      },
      "source": [
        "## Task 4\n",
        "Calculate the [confusion matrix](https://scikit-learn.org/stable/modules/generated/sklearn.metrics.confusion_matrix.html) for \n",
        "- the train and predicted values \n",
        "- the train and perfect predictions \n",
        "\n",
        "Explain what the entries of the confusion matrix mean."
      ]
    },
    {
      "cell_type": "code",
      "execution_count": 131,
      "metadata": {
        "ExecuteTime": {
          "end_time": "2022-01-10T02:41:42.485849Z",
          "start_time": "2022-01-10T02:41:42.482752Z"
        },
        "scrolled": true,
        "id": "LqSQjoLPGQA2"
      },
      "outputs": [],
      "source": [
        "from sklearn.metrics import confusion_matrix"
      ]
    },
    {
      "cell_type": "code",
      "execution_count": 132,
      "metadata": {
        "ExecuteTime": {
          "end_time": "2022-01-10T02:41:42.490905Z",
          "start_time": "2022-01-10T02:41:42.488122Z"
        },
        "id": "ivQEOIlFGQA2"
      },
      "outputs": [],
      "source": [
        "# your code goes below\n",
        "# ↓↓↓↓↓↓↓↓↓↓↓↓↓↓↓↓↓↓↓↓↓↓↓↓↓↓↓↓↓↓↓"
      ]
    },
    {
      "cell_type": "code",
      "execution_count": 133,
      "metadata": {
        "ExecuteTime": {
          "end_time": "2022-01-10T02:41:42.505123Z",
          "start_time": "2022-01-10T02:41:42.493892Z"
        },
        "id": "QwwjnBmtGQA3",
        "outputId": "6006066d-6e73-4269-ed69-4e91fddfa27f",
        "colab": {
          "base_uri": "https://localhost:8080/",
          "height": 0
        }
      },
      "outputs": [
        {
          "data": {
            "text/plain": [
              "array([[54155,   424],\n",
              "       [ 1707,  3714]])"
            ]
          },
          "execution_count": null,
          "metadata": {},
          "output_type": "execute_result"
        }
      ],
      "source": [
        "# confusion matrix for predicted values\n",
        "confusion_matrix(y_train_5, y_train_pred)"
      ]
    },
    {
      "cell_type": "code",
      "execution_count": 134,
      "metadata": {
        "ExecuteTime": {
          "end_time": "2022-01-10T02:41:56.793669Z",
          "start_time": "2022-01-10T02:41:56.784994Z"
        },
        "id": "wuP0qEQrGQA3",
        "outputId": "368d804d-6771-43fc-d802-32bf0e0a21d8",
        "colab": {
          "base_uri": "https://localhost:8080/",
          "height": 0
        }
      },
      "outputs": [
        {
          "data": {
            "text/plain": [
              "array([[54579,     0],\n",
              "       [    0,  5421]])"
            ]
          },
          "execution_count": null,
          "metadata": {},
          "output_type": "execute_result"
        }
      ],
      "source": [
        "# confusion matrix for perfect predictions\n",
        "y_train_perfect_predictions = y_train_5\n",
        "confusion_matrix(y_train_5, y_train_perfect_predictions)"
      ]
    },
    {
      "cell_type": "code",
      "execution_count": 135,
      "metadata": {
        "ExecuteTime": {
          "end_time": "2022-01-10T02:47:13.426286Z",
          "start_time": "2022-01-10T02:47:13.424062Z"
        },
        "id": "k1qWgmTLGQA3"
      },
      "outputs": [],
      "source": [
        "task4_explanation = \"\"\"The first row is negative class: 54,155 of them were correctly classified as true negatives, \n",
        "while the remaining 424 were wrongly classified as false positives. The second row considers the the positive class: \n",
        "  1,707 were wrongly classified as false negatives, while the remaining 3,714 were correctly classified as true positives. \"\"\""
      ]
    },
    {
      "cell_type": "code",
      "execution_count": 136,
      "metadata": {
        "ExecuteTime": {
          "end_time": "2022-01-10T02:32:57.136710Z",
          "start_time": "2022-01-10T02:32:57.134515Z"
        },
        "id": "jweHJPMbGQA3"
      },
      "outputs": [],
      "source": [
        "# ↑↑↑↑↑↑↑↑↑↑↑↑↑↑↑↑↑↑↑↑↑↑↑↑↑↑↑↑↑↑↑\n",
        "# your code goes above this"
      ]
    },
    {
      "cell_type": "markdown",
      "metadata": {
        "id": "J_4n7qsEGQA3"
      },
      "source": [
        "## Task 5\n",
        "Calculate precision and recall scores for training and predicted values"
      ]
    },
    {
      "cell_type": "code",
      "execution_count": 137,
      "metadata": {
        "ExecuteTime": {
          "end_time": "2022-01-10T02:50:48.207424Z",
          "start_time": "2022-01-10T02:50:48.204938Z"
        },
        "id": "BCKXX2UmGQA3"
      },
      "outputs": [],
      "source": [
        "from sklearn.metrics import precision_score, recall_score"
      ]
    },
    {
      "cell_type": "code",
      "execution_count": 138,
      "metadata": {
        "ExecuteTime": {
          "end_time": "2022-01-10T02:41:42.490905Z",
          "start_time": "2022-01-10T02:41:42.488122Z"
        },
        "id": "naxToW9WGQA3"
      },
      "outputs": [],
      "source": [
        "# your code goes below\n",
        "# ↓↓↓↓↓↓↓↓↓↓↓↓↓↓↓↓↓↓↓↓↓↓↓↓↓↓↓↓↓↓↓"
      ]
    },
    {
      "cell_type": "code",
      "execution_count": 139,
      "metadata": {
        "id": "APyBLjuoGQA3",
        "outputId": "61b8a7b4-82d1-4591-c7a0-da9cd6e4e374",
        "colab": {
          "base_uri": "https://localhost:8080/",
          "height": 0
        }
      },
      "outputs": [
        {
          "metadata": {
            "tags": null
          },
          "name": "stdout",
          "output_type": "stream",
          "text": [
            "0.8975350410826486\n",
            "0.6851134477033758\n"
          ]
        }
      ],
      "source": [
        "p_score = precision_score(y_train_5, y_train_pred)\n",
        "r_score = recall_score(y_train_5, y_train_pred)\n",
        "print(p_score)\n",
        "print(r_score)"
      ]
    },
    {
      "cell_type": "code",
      "execution_count": 140,
      "metadata": {
        "ExecuteTime": {
          "end_time": "2022-01-10T02:32:57.136710Z",
          "start_time": "2022-01-10T02:32:57.134515Z"
        },
        "id": "J3-lUw1NGQA3"
      },
      "outputs": [],
      "source": [
        "# ↑↑↑↑↑↑↑↑↑↑↑↑↑↑↑↑↑↑↑↑↑↑↑↑↑↑↑↑↑↑↑\n",
        "# your code goes above this"
      ]
    },
    {
      "cell_type": "markdown",
      "metadata": {
        "id": "n1JYkc9HGQA3"
      },
      "source": [
        "## Task 6\n",
        "Using the values from the [confusion matrix](https://scikit-learn.org/stable/modules/generated/sklearn.metrics.confusion_matrix.html), calculate \n",
        "- the rate of false positives, true positives, false negatives, true negatives \n",
        "- accuracy \n",
        "- precision "
      ]
    },
    {
      "cell_type": "code",
      "execution_count": 141,
      "metadata": {
        "ExecuteTime": {
          "end_time": "2022-01-10T02:41:42.490905Z",
          "start_time": "2022-01-10T02:41:42.488122Z"
        },
        "id": "UsgeiQXfGQA3"
      },
      "outputs": [],
      "source": [
        "# your code goes below\n",
        "# ↓↓↓↓↓↓↓↓↓↓↓↓↓↓↓↓↓↓↓↓↓↓↓↓↓↓↓↓↓↓↓"
      ]
    },
    {
      "cell_type": "code",
      "execution_count": 142,
      "metadata": {
        "id": "lkGSXASgGQA3",
        "outputId": "2640b523-f82f-4049-c9a9-6acea30a0165",
        "colab": {
          "base_uri": "https://localhost:8080/",
          "height": 0
        }
      },
      "outputs": [
        {
          "metadata": {
            "tags": null
          },
          "name": "stdout",
          "output_type": "stream",
          "text": [
            "0.007768555671595302\n",
            "0.6851134477033758\n",
            "0.3148865522966242\n",
            "0.9922314443284047\n",
            "0.9644833333333334\n",
            "0.8975350410826486\n"
          ]
        }
      ],
      "source": [
        "FPR = 424/(424+54155)\n",
        "TPR = 3714/(3714+1707)\n",
        "FNR = 1707/(3714+1707)\n",
        "TNR = 54155/(54155+424)\n",
        "ACCURACY = (54155+3714)/(3714+424+1707+54155)\n",
        "PRECISION = 3714/(3714+424)\n",
        "print(FPR)\n",
        "print(TPR)\n",
        "print(FNR)\n",
        "print(TNR)\n",
        "print(ACCURACY)\n",
        "print(PRECISION)"
      ]
    },
    {
      "cell_type": "code",
      "execution_count": 143,
      "metadata": {
        "ExecuteTime": {
          "end_time": "2022-01-10T02:32:57.136710Z",
          "start_time": "2022-01-10T02:32:57.134515Z"
        },
        "id": "xaM-5bggGQA3"
      },
      "outputs": [],
      "source": [
        "# ↑↑↑↑↑↑↑↑↑↑↑↑↑↑↑↑↑↑↑↑↑↑↑↑↑↑↑↑↑↑↑\n",
        "# your code goes above this"
      ]
    },
    {
      "cell_type": "markdown",
      "metadata": {
        "id": "inxqOjxtGQA3"
      },
      "source": [
        "## Task 7\n",
        "Calculate the f1 score. "
      ]
    },
    {
      "cell_type": "code",
      "execution_count": 144,
      "metadata": {
        "scrolled": true,
        "id": "IEuxfow5GQA3"
      },
      "outputs": [],
      "source": [
        "from sklearn.metrics import f1_score"
      ]
    },
    {
      "cell_type": "code",
      "execution_count": 145,
      "metadata": {
        "ExecuteTime": {
          "end_time": "2022-01-10T02:41:42.490905Z",
          "start_time": "2022-01-10T02:41:42.488122Z"
        },
        "id": "TuCu54CBGQA3"
      },
      "outputs": [],
      "source": [
        "# your code goes below\n",
        "# ↓↓↓↓↓↓↓↓↓↓↓↓↓↓↓↓↓↓↓↓↓↓↓↓↓↓↓↓↓↓↓"
      ]
    },
    {
      "cell_type": "code",
      "execution_count": 146,
      "metadata": {
        "id": "PYIi0KwxGQA3",
        "outputId": "16f58c56-9a92-42f8-e324-23a78ce199bb",
        "colab": {
          "base_uri": "https://localhost:8080/",
          "height": 0
        }
      },
      "outputs": [
        {
          "data": {
            "text/plain": [
              "0.7770687310388116"
            ]
          },
          "execution_count": null,
          "metadata": {},
          "output_type": "execute_result"
        }
      ],
      "source": [
        "f1_score(y_train_5, y_train_pred)"
      ]
    },
    {
      "cell_type": "code",
      "execution_count": 147,
      "metadata": {
        "ExecuteTime": {
          "end_time": "2022-01-10T02:32:57.136710Z",
          "start_time": "2022-01-10T02:32:57.134515Z"
        },
        "id": "9TKBze0mGQA3"
      },
      "outputs": [],
      "source": [
        "# ↑↑↑↑↑↑↑↑↑↑↑↑↑↑↑↑↑↑↑↑↑↑↑↑↑↑↑↑↑↑↑\n",
        "# your code goes above this"
      ]
    },
    {
      "cell_type": "markdown",
      "metadata": {
        "id": "Ks1IVmVOGQA3"
      },
      "source": [
        "## Task 8\n",
        "Explain what the scores in task 5 and 6 (accuracy, precision, f1) describe."
      ]
    },
    {
      "cell_type": "code",
      "execution_count": 148,
      "metadata": {
        "ExecuteTime": {
          "end_time": "2022-01-10T02:41:42.490905Z",
          "start_time": "2022-01-10T02:41:42.488122Z"
        },
        "id": "Y1TI3P_jGQA3"
      },
      "outputs": [],
      "source": [
        "# your code goes below\n",
        "# ↓↓↓↓↓↓↓↓↓↓↓↓↓↓↓↓↓↓↓↓↓↓↓↓↓↓↓↓↓↓↓"
      ]
    },
    {
      "cell_type": "code",
      "execution_count": 149,
      "metadata": {
        "id": "nuqGiVQSGQA4"
      },
      "outputs": [],
      "source": [
        "task8_explanation = \"\"\" Accuracy score means the number of correctly classified values over the total values in the set. \n",
        "Precision score means that when the classification model claims an image represents a 5, \n",
        "it is correct only 89.7% of the time. The f1 score represents the harmonic mean of the precision and recall meaning it combines\n",
        "the precision and recall score into a single convenient metric. \"\"\""
      ]
    },
    {
      "cell_type": "code",
      "execution_count": 150,
      "metadata": {
        "ExecuteTime": {
          "end_time": "2022-01-10T02:32:57.136710Z",
          "start_time": "2022-01-10T02:32:57.134515Z"
        },
        "id": "t6Sv8m0uGQA4"
      },
      "outputs": [],
      "source": [
        "# ↑↑↑↑↑↑↑↑↑↑↑↑↑↑↑↑↑↑↑↑↑↑↑↑↑↑↑↑↑↑↑\n",
        "# your code goes above this"
      ]
    },
    {
      "cell_type": "markdown",
      "metadata": {
        "id": "cuYgJe-aGQA4"
      },
      "source": [
        "# Setting a Threshold on the Prediction"
      ]
    },
    {
      "cell_type": "code",
      "execution_count": 151,
      "metadata": {
        "id": "ngYfF3BOGQA4"
      },
      "outputs": [],
      "source": [
        "# if you want to train sgd_clf again or had troubles with it\n",
        "# sgd_clf = SGDClassifier(max_iter=1000, tol=1e-3, random_state=42)\n",
        "# sgd_clf.fit(X_train,y_train_5)"
      ]
    },
    {
      "cell_type": "code",
      "execution_count": 152,
      "metadata": {
        "id": "1EnWlICmGQA4"
      },
      "outputs": [],
      "source": [
        "some_digit = X_train.iloc[0]"
      ]
    },
    {
      "cell_type": "code",
      "execution_count": 153,
      "metadata": {
        "ExecuteTime": {
          "end_time": "2022-01-10T02:48:58.169188Z",
          "start_time": "2022-01-10T02:48:58.163726Z"
        },
        "id": "JKyTKdsxGQA4",
        "outputId": "f3232dc7-9b38-4e7e-ac3d-94e397efa055",
        "colab": {
          "base_uri": "https://localhost:8080/",
          "height": 0
        }
      },
      "outputs": [
        {
          "metadata": {
            "tags": null
          },
          "name": "stderr",
          "output_type": "stream",
          "text": [
            "/usr/local/lib/python3.7/dist-packages/sklearn/base.py:451: UserWarning: X does not have valid feature names, but SGDClassifier was fitted with feature names\n",
            "  \"X does not have valid feature names, but\"\n"
          ]
        },
        {
          "data": {
            "text/plain": [
              "array([2164.22030239])"
            ]
          },
          "execution_count": null,
          "metadata": {},
          "output_type": "execute_result"
        }
      ],
      "source": [
        "y_scores = sgd_clf.decision_function([some_digit])\n",
        "y_scores"
      ]
    },
    {
      "cell_type": "code",
      "execution_count": 154,
      "metadata": {
        "ExecuteTime": {
          "end_time": "2022-01-10T02:48:01.712173Z",
          "start_time": "2022-01-10T02:48:01.707778Z"
        },
        "id": "i8X3T_nGGQA4",
        "outputId": "2318fc2b-c128-420d-e369-bd26d961e832",
        "colab": {
          "base_uri": "https://localhost:8080/",
          "height": 0
        }
      },
      "outputs": [
        {
          "data": {
            "text/plain": [
              "array([ True])"
            ]
          },
          "execution_count": null,
          "metadata": {},
          "output_type": "execute_result"
        }
      ],
      "source": [
        "threshold = 0\n",
        "y_some_digit_pred = (y_scores > threshold)\n",
        "y_some_digit_pred"
      ]
    },
    {
      "cell_type": "code",
      "execution_count": 155,
      "metadata": {
        "ExecuteTime": {
          "end_time": "2022-01-10T02:48:05.147389Z",
          "start_time": "2022-01-10T02:48:05.143404Z"
        },
        "id": "fIZXhAsOGQA4",
        "outputId": "53a87b96-c163-4272-816f-6d8a8f021c24",
        "colab": {
          "base_uri": "https://localhost:8080/",
          "height": 0
        }
      },
      "outputs": [
        {
          "data": {
            "text/plain": [
              "array([False])"
            ]
          },
          "execution_count": null,
          "metadata": {},
          "output_type": "execute_result"
        }
      ],
      "source": [
        "threshold = 8000\n",
        "y_some_digit_pred = (y_scores > threshold)\n",
        "y_some_digit_pred"
      ]
    },
    {
      "cell_type": "code",
      "execution_count": 156,
      "metadata": {
        "ExecuteTime": {
          "end_time": "2022-01-10T02:52:47.016524Z",
          "start_time": "2022-01-10T02:52:16.587210Z"
        },
        "id": "WEj4dvJTGQA4"
      },
      "outputs": [],
      "source": [
        "y_scores = cross_val_predict(sgd_clf, X_train, y_train_5, cv=3,\n",
        "                             method=\"decision_function\")"
      ]
    },
    {
      "cell_type": "code",
      "execution_count": 157,
      "metadata": {
        "ExecuteTime": {
          "end_time": "2022-01-10T02:52:47.047922Z",
          "start_time": "2022-01-10T02:52:47.018561Z"
        },
        "id": "e7Lofr-HGQA4",
        "outputId": "60ca38aa-8b27-4d94-fa4a-a1c491b949cf",
        "colab": {
          "base_uri": "https://localhost:8080/",
          "height": 0
        }
      },
      "outputs": [
        {
          "data": {
            "text/plain": [
              "array([  1112.46971618, -18371.67592848, -33412.39103155, ...,\n",
              "         8335.9713763 ,  -4704.03441346, -12500.08918871])"
            ]
          },
          "execution_count": null,
          "metadata": {},
          "output_type": "execute_result"
        }
      ],
      "source": [
        "y_scores"
      ]
    },
    {
      "cell_type": "code",
      "execution_count": 158,
      "metadata": {
        "ExecuteTime": {
          "end_time": "2022-01-10T02:48:43.497627Z",
          "start_time": "2022-01-10T02:48:43.464403Z"
        },
        "id": "xj9WHuGIGQA4"
      },
      "outputs": [],
      "source": [
        "from sklearn.metrics import precision_recall_curve\n",
        "\n",
        "precisions, recalls, thresholds = precision_recall_curve(y_train_5, y_scores)"
      ]
    },
    {
      "cell_type": "code",
      "execution_count": 159,
      "metadata": {
        "ExecuteTime": {
          "end_time": "2022-01-10T02:49:12.359256Z",
          "start_time": "2022-01-10T02:49:12.234680Z"
        },
        "id": "9eYd9RLrGQA4",
        "outputId": "a23704b2-5ed7-4b6b-ea6f-98f6941eb9d4",
        "colab": {
          "base_uri": "https://localhost:8080/",
          "height": 292
        }
      },
      "outputs": [
        {
          "data": {
            "image/png": "[encoded data removed]",
            "text/plain": [
              "<Figure size 576x288 with 1 Axes>"
            ]
          },
          "metadata": {},
          "output_type": "display_data"
        }
      ],
      "source": [
        "def plot_precision_recall_vs_threshold(precisions, recalls, thresholds):\n",
        "    plt.plot(thresholds, precisions[:-1], \"b--\", label=\"Precision\", linewidth=2)\n",
        "    plt.plot(thresholds, recalls[:-1], \"g-\", label=\"Recall\", linewidth=2)\n",
        "    plt.legend(loc=\"center right\", fontsize=16) # Not shown in the book\n",
        "    plt.xlabel(\"Threshold\", fontsize=16)        # Not shown\n",
        "    plt.grid(True)                              # Not shown\n",
        "    plt.axis([-50000, 50000, 0, 1])             # Not shown\n",
        "\n",
        "\n",
        "\n",
        "recall_90_precision = recalls[np.argmax(precisions >= 0.90)]\n",
        "threshold_90_precision = thresholds[np.argmax(precisions >= 0.90)]\n",
        "\n",
        "\n",
        "plt.figure(figsize=(8, 4))                                                                  # Not shown\n",
        "plot_precision_recall_vs_threshold(precisions, recalls, thresholds)\n",
        "plt.plot([threshold_90_precision, threshold_90_precision], [0., 0.9], \"r:\")                 # Not shown\n",
        "plt.plot([-50000, threshold_90_precision], [0.9, 0.9], \"r:\")                                # Not shown\n",
        "plt.plot([-50000, threshold_90_precision], [recall_90_precision, recall_90_precision], \"r:\")# Not shown\n",
        "plt.plot([threshold_90_precision], [0.9], \"ro\")                                             # Not shown\n",
        "plt.plot([threshold_90_precision], [recall_90_precision], \"ro\")                             # Not shown\n",
        "plt.show()"
      ]
    },
    {
      "cell_type": "code",
      "execution_count": 160,
      "metadata": {
        "ExecuteTime": {
          "end_time": "2022-01-10T02:49:46.900269Z",
          "start_time": "2022-01-10T02:49:46.785578Z"
        },
        "id": "hXZa8dl6GQA4",
        "outputId": "c930b232-ebdf-4fab-ae55-4f95f23ac490",
        "colab": {
          "base_uri": "https://localhost:8080/",
          "height": 401
        }
      },
      "outputs": [
        {
          "data": {
            "image/png": "[encoded data removed]",
            "text/plain": [
              "<Figure size 576x432 with 1 Axes>"
            ]
          },
          "metadata": {},
          "output_type": "display_data"
        }
      ],
      "source": [
        "def plot_precision_vs_recall(precisions, recalls):\n",
        "    plt.plot(recalls, precisions, \"b-\", linewidth=2)\n",
        "    plt.xlabel(\"Recall\", fontsize=16)\n",
        "    plt.ylabel(\"Precision\", fontsize=16)\n",
        "    plt.axis([0, 1, 0, 1])\n",
        "    plt.grid(True)\n",
        "\n",
        "plt.figure(figsize=(8, 6))\n",
        "plot_precision_vs_recall(precisions, recalls)\n",
        "plt.plot([recall_90_precision, recall_90_precision], [0., 0.9], \"r:\")\n",
        "plt.plot([0.0, recall_90_precision], [0.9, 0.9], \"r:\")\n",
        "plt.plot([recall_90_precision], [0.9], \"ro\")\n",
        "plt.show()"
      ]
    },
    {
      "cell_type": "code",
      "execution_count": 161,
      "metadata": {
        "ExecuteTime": {
          "end_time": "2022-01-10T02:53:08.435398Z",
          "start_time": "2022-01-10T02:53:08.432115Z"
        },
        "id": "W3z9WOPWGQA4"
      },
      "outputs": [],
      "source": [
        "threshold_90_precision = thresholds[np.argmax(precisions >= 0.90)]"
      ]
    },
    {
      "cell_type": "code",
      "execution_count": 162,
      "metadata": {
        "ExecuteTime": {
          "end_time": "2022-01-10T02:53:09.222273Z",
          "start_time": "2022-01-10T02:53:09.218550Z"
        },
        "id": "5MK2OdFfGQA4",
        "outputId": "978e6b62-81c8-4b0c-e226-7850bcbb5c22",
        "colab": {
          "base_uri": "https://localhost:8080/",
          "height": 0
        }
      },
      "outputs": [
        {
          "data": {
            "text/plain": [
              "987.3979756530086"
            ]
          },
          "execution_count": null,
          "metadata": {},
          "output_type": "execute_result"
        }
      ],
      "source": [
        "threshold_90_precision"
      ]
    },
    {
      "cell_type": "code",
      "execution_count": 163,
      "metadata": {
        "ExecuteTime": {
          "end_time": "2022-01-10T02:53:11.476342Z",
          "start_time": "2022-01-10T02:53:11.473767Z"
        },
        "id": "9eVqTx0-GQA4"
      },
      "outputs": [],
      "source": [
        "y_train_pred_90 = (y_scores >= threshold_90_precision)"
      ]
    },
    {
      "cell_type": "code",
      "execution_count": 164,
      "metadata": {
        "ExecuteTime": {
          "end_time": "2022-01-10T02:53:23.644585Z",
          "start_time": "2022-01-10T02:53:23.625803Z"
        },
        "id": "uwaEwxSfGQA4",
        "outputId": "97993909-c2e0-412f-c067-86e892c875d8",
        "colab": {
          "base_uri": "https://localhost:8080/",
          "height": 0
        }
      },
      "outputs": [
        {
          "data": {
            "text/plain": [
              "0.900197628458498"
            ]
          },
          "execution_count": null,
          "metadata": {},
          "output_type": "execute_result"
        }
      ],
      "source": [
        "precision_score(y_train_5, y_train_pred_90)"
      ]
    },
    {
      "cell_type": "code",
      "execution_count": 165,
      "metadata": {
        "ExecuteTime": {
          "end_time": "2022-01-10T02:53:46.583472Z",
          "start_time": "2022-01-10T02:53:46.566067Z"
        },
        "id": "CuL-yWXPGQA4",
        "outputId": "ab1b4f7a-145d-4993-a516-8a2e315622e1",
        "colab": {
          "base_uri": "https://localhost:8080/",
          "height": 0
        }
      },
      "outputs": [
        {
          "data": {
            "text/plain": [
              "0.6722007009776794"
            ]
          },
          "execution_count": null,
          "metadata": {},
          "output_type": "execute_result"
        }
      ],
      "source": [
        "recall_score(y_train_5, y_train_pred_90)"
      ]
    },
    {
      "cell_type": "markdown",
      "metadata": {
        "id": "7X8oTwp9GQA4"
      },
      "source": [
        "# ROC curves"
      ]
    },
    {
      "cell_type": "markdown",
      "metadata": {
        "id": "Y8HBDi7mGQA4"
      },
      "source": [
        "We can now go on to calculate the [Receiver Operating Characteristic (ROC) curve](https://en.wikipedia.org/wiki/Receiver_operating_characteristic). \n",
        "For a good explanation see also [here](https://towardsdatascience.com/understanding-auc-roc-curve-68b2303cc9c5).\n",
        "\n",
        "Basically instead of plotting measures like precision and recall as a function of the threshold, we plot the true positive rate (recall) vs the false positive rate (fall-out)."
      ]
    },
    {
      "cell_type": "code",
      "execution_count": 166,
      "metadata": {
        "ExecuteTime": {
          "end_time": "2022-01-10T02:53:58.232158Z",
          "start_time": "2022-01-10T02:53:58.217881Z"
        },
        "id": "QNCCjjkMGQA5"
      },
      "outputs": [],
      "source": [
        "from sklearn.metrics import roc_curve\n",
        "\n",
        "fpr, tpr, thresholds = roc_curve(y_train_5, y_scores)"
      ]
    },
    {
      "cell_type": "code",
      "execution_count": 167,
      "metadata": {
        "ExecuteTime": {
          "end_time": "2022-01-10T02:54:02.464646Z",
          "start_time": "2022-01-10T02:54:02.284813Z"
        },
        "id": "0hemnPsEGQA5",
        "outputId": "f019069f-2fef-4eff-e97b-9c79d23347d8",
        "colab": {
          "base_uri": "https://localhost:8080/",
          "height": 401
        }
      },
      "outputs": [
        {
          "data": {
            "image/png": "[encoded data removed]",
            "text/plain": [
              "<Figure size 576x432 with 1 Axes>"
            ]
          },
          "metadata": {},
          "output_type": "display_data"
        }
      ],
      "source": [
        "def plot_roc_curve(fpr, tpr, label=None):\n",
        "    plt.plot(fpr, tpr, linewidth=2, label=label)\n",
        "    plt.plot([0, 1], [0, 1], 'k--') \n",
        "    plt.axis([0, 1, 0, 1])\n",
        "    plt.xlabel('False Positive Rate (Fall-Out)', fontsize=16) \n",
        "    plt.ylabel('True Positive Rate (Recall)', fontsize=16)\n",
        "    plt.grid(True)\n",
        "\n",
        "plt.figure(figsize=(8, 6))\n",
        "plot_roc_curve(fpr, tpr)\n",
        "fpr_90 = fpr[np.argmax(tpr >= recall_90_precision)]\n",
        "plt.plot([fpr_90, fpr_90], [0., recall_90_precision], \"r:\")\n",
        "plt.plot([0.0, fpr_90], [recall_90_precision, recall_90_precision], \"r:\")\n",
        "plt.plot([fpr_90], [recall_90_precision], \"ro\")\n",
        "plt.show()"
      ]
    },
    {
      "cell_type": "markdown",
      "metadata": {
        "id": "7sh9P3WvGQA5"
      },
      "source": [
        "The area under the curve (auc) is a measure of how good the model is."
      ]
    },
    {
      "cell_type": "code",
      "execution_count": 168,
      "metadata": {
        "ExecuteTime": {
          "end_time": "2022-01-10T02:54:06.801201Z",
          "start_time": "2022-01-10T02:54:06.778145Z"
        },
        "id": "u470giGVGQA5",
        "outputId": "7cb41ffb-1f6e-4598-d528-a41739c958af",
        "colab": {
          "base_uri": "https://localhost:8080/",
          "height": 0
        }
      },
      "outputs": [
        {
          "data": {
            "text/plain": [
              "0.9671567364537266"
            ]
          },
          "execution_count": null,
          "metadata": {},
          "output_type": "execute_result"
        }
      ],
      "source": [
        "from sklearn.metrics import roc_auc_score\n",
        "\n",
        "roc_auc_score(y_train_5, y_scores)"
      ]
    },
    {
      "cell_type": "markdown",
      "metadata": {
        "id": "UXbkrsa_GQA5"
      },
      "source": [
        "Let's compare the SGD model with a random forest."
      ]
    },
    {
      "cell_type": "code",
      "execution_count": 169,
      "metadata": {
        "ExecuteTime": {
          "end_time": "2022-01-10T02:55:05.272317Z",
          "start_time": "2022-01-10T02:54:16.043108Z"
        },
        "id": "nTfAiVLxGQA5"
      },
      "outputs": [],
      "source": [
        "from sklearn.ensemble import RandomForestClassifier\n",
        "forest_clf = RandomForestClassifier(n_estimators=100, random_state=42)\n",
        "y_probas_forest = cross_val_predict(forest_clf, X_train, y_train_5, cv=3,\n",
        "                                    method=\"predict_proba\")"
      ]
    },
    {
      "cell_type": "code",
      "execution_count": 170,
      "metadata": {
        "ExecuteTime": {
          "end_time": "2022-01-10T02:55:05.285818Z",
          "start_time": "2022-01-10T02:55:05.274884Z"
        },
        "id": "JN4VKRNRGQA5"
      },
      "outputs": [],
      "source": [
        "y_scores_forest = y_probas_forest[:, 1] # score = proba of positive class\n",
        "fpr_forest, tpr_forest, thresholds_forest = roc_curve(y_train_5,y_scores_forest)"
      ]
    },
    {
      "cell_type": "code",
      "execution_count": 171,
      "metadata": {
        "ExecuteTime": {
          "end_time": "2022-01-10T02:58:05.914822Z",
          "start_time": "2022-01-10T02:58:05.787320Z"
        },
        "id": "M1yV_9SmGQA5",
        "outputId": "8d227759-ee71-4dae-e2b3-b5998d140779",
        "colab": {
          "base_uri": "https://localhost:8080/",
          "height": 401
        }
      },
      "outputs": [
        {
          "data": {
            "image/png": "[encoded data removed]",
            "text/plain": [
              "<Figure size 576x432 with 1 Axes>"
            ]
          },
          "metadata": {},
          "output_type": "display_data"
        }
      ],
      "source": [
        "recall_for_forest = tpr_forest[np.argmax(fpr_forest >= fpr_90)]\n",
        "\n",
        "plt.figure(figsize=(8, 6))\n",
        "plt.plot(fpr, tpr, \"b:\", linewidth=2, label=\"SGD\")\n",
        "plot_roc_curve(fpr_forest, tpr_forest, \"Random Forest\")\n",
        "plt.plot([fpr_90, fpr_90], [0., recall_90_precision], \"r:\")\n",
        "plt.plot([0.0, fpr_90], [recall_90_precision, recall_90_precision], \"r:\")\n",
        "plt.plot([fpr_90], [recall_90_precision], \"ro\")\n",
        "plt.plot([fpr_90, fpr_90], [0., recall_for_forest], \"r:\")\n",
        "plt.plot([fpr_90], [recall_for_forest], \"ro\")\n",
        "plt.grid(True)\n",
        "plt.legend(loc=\"lower right\", fontsize=16)\n",
        "plt.show()"
      ]
    },
    {
      "cell_type": "code",
      "execution_count": 172,
      "metadata": {
        "ExecuteTime": {
          "end_time": "2022-01-10T02:58:07.401750Z",
          "start_time": "2022-01-10T02:58:07.386909Z"
        },
        "id": "4s2vDSqTGQA5",
        "outputId": "bfd31633-a130-464c-c2e3-91b627d23d32",
        "colab": {
          "base_uri": "https://localhost:8080/",
          "height": 0
        }
      },
      "outputs": [
        {
          "data": {
            "text/plain": [
              "0.9983436731328145"
            ]
          },
          "execution_count": null,
          "metadata": {},
          "output_type": "execute_result"
        }
      ],
      "source": [
        "roc_auc_score(y_train_5, y_scores_forest)"
      ]
    },
    {
      "cell_type": "code",
      "execution_count": 173,
      "metadata": {
        "ExecuteTime": {
          "end_time": "2022-01-10T02:59:01.711096Z",
          "start_time": "2022-01-10T02:58:12.408395Z"
        },
        "id": "0SXjQPXpGQA5",
        "outputId": "63ece1e0-ef44-4f91-ebd6-5159ea134d79",
        "colab": {
          "base_uri": "https://localhost:8080/",
          "height": 0
        }
      },
      "outputs": [
        {
          "data": {
            "text/plain": [
              "0.9905083315756169"
            ]
          },
          "execution_count": null,
          "metadata": {},
          "output_type": "execute_result"
        }
      ],
      "source": [
        "y_train_pred_forest = cross_val_predict(forest_clf, X_train, y_train_5, cv=3)\n",
        "precision_score(y_train_5, y_train_pred_forest)"
      ]
    },
    {
      "cell_type": "code",
      "execution_count": 174,
      "metadata": {
        "ExecuteTime": {
          "end_time": "2022-01-10T02:59:01.734193Z",
          "start_time": "2022-01-10T02:59:01.713430Z"
        },
        "id": "RylzNKUTGQA5",
        "outputId": "b55660e9-f610-4188-b8ed-f459f5c98a3f",
        "colab": {
          "base_uri": "https://localhost:8080/",
          "height": 0
        }
      },
      "outputs": [
        {
          "data": {
            "text/plain": [
              "0.8662608374838591"
            ]
          },
          "execution_count": null,
          "metadata": {},
          "output_type": "execute_result"
        }
      ],
      "source": [
        "recall_score(y_train_5, y_train_pred_forest)"
      ]
    },
    {
      "cell_type": "markdown",
      "metadata": {
        "id": "QBZrfG_eGQA5"
      },
      "source": [
        "# Textbook exercises"
      ]
    },
    {
      "cell_type": "markdown",
      "metadata": {
        "id": "wgW5TNpFGQA5"
      },
      "source": [
        "**Exercise 1**\n",
        "\n",
        "Feel free to play around with this question.\n",
        "Try to build a different classifier. \n",
        "\n",
        "__Hint__: the KNeighborsClassifier works quite well for this task. Good hyperparameters are `{'n_neighbors': 4, 'weights': 'distance'}`"
      ]
    },
    {
      "cell_type": "code",
      "execution_count": 175,
      "metadata": {
        "ExecuteTime": {
          "end_time": "2022-01-10T02:37:56.665347Z",
          "start_time": "2022-01-10T02:37:56.662836Z"
        },
        "id": "TGA424qPGQA5"
      },
      "outputs": [],
      "source": [
        "# your code goes below\n",
        "# ↓↓↓↓↓↓↓↓↓↓↓↓↓↓↓↓↓↓↓↓↓↓↓↓↓↓↓↓↓↓↓"
      ]
    },
    {
      "cell_type": "code",
      "source": [
        "from sklearn.neighbors import KNeighborsClassifier\n",
        "knn = KNeighborsClassifier(n_neighbors=4, weights = \"distance\")\n",
        "knn.fit(X_train,y_train_5)\n",
        "knn.predict(X_test[0:1])"
      ],
      "metadata": {
        "id": "NH6scH1ugVAZ",
        "outputId": "47d980fd-29f7-4cfc-e1fd-2445a19dc3fb",
        "colab": {
          "base_uri": "https://localhost:8080/",
          "height": 0
        }
      },
      "execution_count": 210,
      "outputs": [
        {
          "output_type": "execute_result",
          "data": {
            "text/plain": [
              "array([False])"
            ]
          },
          "metadata": {},
          "execution_count": 210
        }
      ]
    },
    {
      "cell_type": "code",
      "source": [
        "from sklearn.model_selection import GridSearchCV\n"
      ],
      "metadata": {
        "id": "oByFMEBzchTE"
      },
      "execution_count": 211,
      "outputs": []
    },
    {
      "cell_type": "code",
      "execution_count": 177,
      "metadata": {
        "ExecuteTime": {
          "end_time": "2022-01-10T02:38:26.727838Z",
          "start_time": "2022-01-10T02:38:26.724839Z"
        },
        "id": "ldPvxkCYGQA5"
      },
      "outputs": [],
      "source": [
        "# ↑↑↑↑↑↑↑↑↑↑↑↑↑↑↑↑↑↑↑↑↑↑↑↑↑↑↑↑↑↑↑\n",
        "# your code goes above this"
      ]
    },
    {
      "cell_type": "markdown",
      "metadata": {
        "id": "9mO13PN2GQA5"
      },
      "source": [
        "**Exercise 2**\n",
        "(Optional)\n",
        "\n",
        "Write a function that can shift an MNIST image in any direction (left, right, up, or down) by five pixels. Then, for each image in the training set, create four shifted copies (one per direction) and add them to the training set. Finally, train your best model on this expanded training set and measure its accuracy on the test set. You should observe that your model performs even better now! This technique of artificially growing the training set is called data augmentation or training set expansion."
      ]
    },
    {
      "cell_type": "code",
      "execution_count": 178,
      "metadata": {
        "ExecuteTime": {
          "end_time": "2022-01-10T02:37:56.665347Z",
          "start_time": "2022-01-10T02:37:56.662836Z"
        },
        "id": "IVgzc-hMGQA5"
      },
      "outputs": [],
      "source": [
        "# your code goes below\n",
        "# ↓↓↓↓↓↓↓↓↓↓↓↓↓↓↓↓↓↓↓↓↓↓↓↓↓↓↓↓↓↓↓"
      ]
    },
    {
      "cell_type": "code",
      "execution_count": 179,
      "metadata": {
        "ExecuteTime": {
          "end_time": "2022-01-10T02:38:26.727838Z",
          "start_time": "2022-01-10T02:38:26.724839Z"
        },
        "id": "ZMxcOsurGQA5"
      },
      "outputs": [],
      "source": [
        "# ↑↑↑↑↑↑↑↑↑↑↑↑↑↑↑↑↑↑↑↑↑↑↑↑↑↑↑↑↑↑↑\n",
        "# your code goes above this"
      ]
    },
    {
      "cell_type": "code",
      "execution_count": 195,
      "metadata": {
        "id": "ZJ48RR78GQA5"
      },
      "outputs": [],
      "source": [
        "#y_pred = knn_clf.predict(X_test)\n",
        "#accuracy_score(y_test, y_pred)"
      ]
    },
    {
      "cell_type": "markdown",
      "metadata": {
        "id": "V3d33XTtGQA6"
      },
      "source": [
        "# Exercise 2 Solution"
      ]
    },
    {
      "cell_type": "code",
      "execution_count": null,
      "metadata": {
        "id": "HNsmAzZZGQA6"
      },
      "outputs": [],
      "source": [
        "from scipy.ndimage.interpolation import shift"
      ]
    },
    {
      "cell_type": "code",
      "execution_count": null,
      "metadata": {
        "id": "qltbU5RfGQA6"
      },
      "outputs": [],
      "source": [
        "def shift_image(image, dx, dy):\n",
        "    image = image.reshape((28, 28))\n",
        "    shifted_image = shift(image, [dy, dx], cval=0, mode=\"constant\")\n",
        "    return shifted_image.reshape([-1])"
      ]
    },
    {
      "cell_type": "code",
      "execution_count": null,
      "metadata": {
        "id": "pJgB0xrDGQA6"
      },
      "outputs": [],
      "source": [
        "image = X_train[1000]\n",
        "shifted_image_down = shift_image(image, 0, 5)\n",
        "shifted_image_left = shift_image(image, -5, 0)\n",
        "\n",
        "plt.figure(figsize=(12,3))\n",
        "plt.subplot(131)\n",
        "plt.title(\"Original\", fontsize=14)\n",
        "plt.imshow(image.reshape(28, 28), interpolation=\"nearest\", cmap=\"Greys\")\n",
        "plt.subplot(132)\n",
        "plt.title(\"Shifted down\", fontsize=14)\n",
        "plt.imshow(shifted_image_down.reshape(28, 28), interpolation=\"nearest\", cmap=\"Greys\")\n",
        "plt.subplot(133)\n",
        "plt.title(\"Shifted left\", fontsize=14)\n",
        "plt.imshow(shifted_image_left.reshape(28, 28), interpolation=\"nearest\", cmap=\"Greys\")\n",
        "plt.show()"
      ]
    },
    {
      "cell_type": "code",
      "execution_count": null,
      "metadata": {
        "id": "Uon-WlEVGQA6"
      },
      "outputs": [],
      "source": [
        "X_train_augmented = [image for image in X_train]\n",
        "y_train_augmented = [label for label in y_train]\n",
        "\n",
        "for dx, dy in ((1, 0), (-1, 0), (0, 1), (0, -1)):\n",
        "    for image, label in zip(X_train, y_train):\n",
        "        X_train_augmented.append(shift_image(image, dx, dy))\n",
        "        y_train_augmented.append(label)\n",
        "\n",
        "X_train_augmented = np.array(X_train_augmented)\n",
        "y_train_augmented = np.array(y_train_augmented)"
      ]
    },
    {
      "cell_type": "code",
      "execution_count": null,
      "metadata": {
        "id": "2EI9bXuzGQA6"
      },
      "outputs": [],
      "source": [
        "shuffle_idx = np.random.permutation(len(X_train_augmented))\n",
        "X_train_augmented = X_train_augmented[shuffle_idx]\n",
        "y_train_augmented = y_train_augmented[shuffle_idx]"
      ]
    },
    {
      "cell_type": "code",
      "execution_count": null,
      "metadata": {
        "id": "1_pUA1KbGQA6"
      },
      "outputs": [],
      "source": [
        "knn_clf = KNeighborsClassifier(**grid_search.best_params_)"
      ]
    },
    {
      "cell_type": "code",
      "execution_count": null,
      "metadata": {
        "id": "XN90-DhbGQA6"
      },
      "outputs": [],
      "source": [
        "knn_clf.fit(X_train_augmented, y_train_augmented)"
      ]
    },
    {
      "cell_type": "code",
      "execution_count": null,
      "metadata": {
        "id": "hiJ5BYdzGQA6"
      },
      "outputs": [],
      "source": [
        "y_pred = knn_clf.predict(X_test)\n",
        "accuracy_score(y_test, y_pred)"
      ]
    }
  ],
  "metadata": {
    "hide_input": false,
    "kernelspec": {
      "display_name": "Python 3 (ipykernel)",
      "language": "python",
      "name": "python3"
    },
    "language_info": {
      "codemirror_mode": {
        "name": "ipython",
        "version": 3
      },
      "file_extension": ".py",
      "mimetype": "text/x-python",
      "name": "python",
      "nbconvert_exporter": "python",
      "pygments_lexer": "ipython3",
      "version": "3.9.7"
    },
    "latex_envs": {
      "LaTeX_envs_menu_present": true,
      "autoclose": false,
      "autocomplete": true,
      "bibliofile": "biblio.bib",
      "cite_by": "apalike",
      "current_citInitial": 1,
      "eqLabelWithNumbers": true,
      "eqNumInitial": 1,
      "hotkeys": {
        "equation": "Ctrl-E",
        "itemize": "Ctrl-I"
      },
      "labels_anchors": false,
      "latex_user_defs": false,
      "report_style_numbering": false,
      "user_envs_cfg": false
    },
    "nav_menu": {},
    "toc": {
      "base_numbering": 1,
      "nav_menu": {},
      "number_sections": true,
      "sideBar": true,
      "skip_h1_title": false,
      "title_cell": "Table of Contents",
      "title_sidebar": "Contents",
      "toc_cell": false,
      "toc_position": {},
      "toc_section_display": "block",
      "toc_window_display": false
    },
    "colab": {
      "name": "01_Classification.ipynb",
      "provenance": []
    }
  },
  "nbformat": 4,
  "nbformat_minor": 0
}