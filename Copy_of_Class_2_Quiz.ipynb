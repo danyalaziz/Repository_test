{
  "nbformat": 4,
  "nbformat_minor": 0,
  "metadata": {
    "colab": {
      "name": "Copy of Class_2_Quiz.ipynb",
      "version": "0.3.2",
      "provenance": [],
      "collapsed_sections": [],
      "include_colab_link": true
    },
    "kernelspec": {
      "display_name": "Python 3",
      "language": "python",
      "name": "python3"
    }
  },
  "cells": [
    {
      "cell_type": "markdown",
      "metadata": {
        "id": "view-in-github",
        "colab_type": "text"
      },
      "source": [
        "<a href=\"https://colab.research.google.com/github/Daniyal66/Fake_Repository_test/blob/master/Copy_of_Class_2_Quiz.ipynb\" target=\"_parent\"><img src=\"https://colab.research.google.com/assets/colab-badge.svg\" alt=\"Open In Colab\"/></a>"
      ]
    },
    {
      "metadata": {
        "colab_type": "text",
        "id": "OooyggzoZ_Wq"
      },
      "cell_type": "markdown",
      "source": [
        "## 02: Python Syntax"
      ]
    },
    {
      "metadata": {
        "colab_type": "text",
        "id": "o1WGCZFhaZiz"
      },
      "cell_type": "markdown",
      "source": [
        "**Problem:** In which of the following two cases will extra whitespace produce an error (Case 1 or Case 2)? Why?\n",
        "\n",
        "**Case 1:** \n",
        "\n",
        "```python\n",
        "L = 1 + 2 + 3\n",
        "```\n",
        "\n",
        "vs\n",
        "\n",
        "```python\n",
        "L = 1 + 2 +     3\n",
        "```\n",
        "\n",
        "**Case 2:**\n",
        "```python\n",
        "for i in [1,2,3]:\n",
        "  print(i + 1)\n",
        "  print(i + 2)\n",
        "```\n",
        "\n",
        "vs\n",
        "\n",
        "```python\n",
        "for i in [1,2,3]:\n",
        "  print(i + 1)\n",
        "      print(i + 2)\n",
        "```\n",
        "\n",
        "\n",
        "\n"
      ]
    },
    {
      "metadata": {
        "id": "AJnj9ru9-bMc",
        "colab_type": "text"
      },
      "cell_type": "markdown",
      "source": [
        "#Type **your answer** here: \n",
        "Case 1: L = 1 + 2 +     3\n",
        "Case 2: for i in [1,2,3]:\n",
        "  print(i + 1)\n",
        "      print(i + 2)"
      ]
    },
    {
      "metadata": {
        "colab_type": "text",
        "id": "jwbm6Uvyc3_c"
      },
      "cell_type": "markdown",
      "source": [
        "**Problem:** The following code\n",
        "\n",
        "\n",
        "```python\n",
        "for i in [1,2,3]:\n",
        "  print(i)\n",
        "  continue\n",
        "```\n",
        "\n",
        "outputs:\n",
        "\n",
        "> 1 2 3\n",
        "\n",
        "Whereas:\n",
        "\n",
        "```python\n",
        "for i in [1,2,3]:\n",
        "  continue\n",
        "print(i)\n",
        "```\n",
        "\n",
        "outputs:\n",
        "\n",
        "> 3\n",
        "\n",
        "Explain why.\n"
      ]
    },
    {
      "metadata": {
        "id": "85fsko84-bMm",
        "colab_type": "text"
      },
      "cell_type": "markdown",
      "source": [
        "#Type **your answer** here:"
      ]
    },
    {
      "metadata": {
        "colab_type": "text",
        "id": "n1T1k-vvaH92"
      },
      "cell_type": "markdown",
      "source": [
        "## 03: Python Semantics: Variables"
      ]
    },
    {
      "metadata": {
        "colab_type": "text",
        "id": "NgwxShyJpi6g"
      },
      "cell_type": "markdown",
      "source": [
        "**Problem:** Consider the following code:\n",
        "\n",
        "\n",
        "```python\n",
        "x = 3\n",
        "y = [1,2,3]\n",
        "z = 'spam'\n",
        "```\n",
        "\n",
        "Question: ``x, y,`` and ``z`` examples of what? \n",
        "\n",
        ">Hint: I am **not** asking for the types of `3`, `[1,2,3]`, and `'spam'`, I am asking what are ``x, y,`` and ``z`` examples of (your answer should be the same for all three)\n"
      ]
    },
    {
      "metadata": {
        "id": "7rM1SfM7-bM0",
        "colab_type": "text"
      },
      "cell_type": "markdown",
      "source": [
        "#Type **your answer** here:"
      ]
    },
    {
      "metadata": {
        "id": "5iB8iI7z-bM5",
        "colab_type": "text"
      },
      "cell_type": "markdown",
      "source": [
        "**Problem:** Consider the following code:\n",
        "\n",
        "```python\n",
        "x.real()\n",
        "y.append(4)\n",
        "z.capitalize()\n",
        "```\n",
        "\n",
        "Question: ``.real()``, ``append()``, and ``.capitalize()`` are examples of what? (It's ok if you don't know what these do yet)\n",
        "\n",
        "> Hint: Again, your answer should be the same for all three"
      ]
    },
    {
      "metadata": {
        "id": "BBY3gOKL-bM8",
        "colab_type": "text"
      },
      "cell_type": "markdown",
      "source": [
        "#Type **your answer** here:"
      ]
    },
    {
      "metadata": {
        "id": "-iY2nNxJ-bM_",
        "colab_type": "text"
      },
      "cell_type": "markdown",
      "source": [
        "**Problem:** Consider the following code:\n",
        "\n",
        "```python\n",
        "l = 3.141\n",
        "s = ['hello']\n",
        "\n",
        "l = s\n",
        "\n",
        "s.append(' world')\n",
        "print('s is now:', s)\n",
        "print('l is now:', l)\n",
        "```\n",
        "\n",
        "The output of this code is\n",
        "\n",
        "```\n",
        "s is now: ['hello', ' world']\n",
        "l is now: ['hello', ' world']\n",
        "```\n",
        "\n",
        "\n",
        "\n",
        "Question: Explain why ``l`` is no longer ``3.141``, and why ``s`` and ``l`` are identical now. Include an explanation of a Python variable as a \"pointer\""
      ]
    },
    {
      "metadata": {
        "id": "1tdMyaA_-bNC",
        "colab_type": "text"
      },
      "cell_type": "markdown",
      "source": [
        "#Type **your answer** here:"
      ]
    },
    {
      "metadata": {
        "colab_type": "text",
        "id": "BkuEnCEcq-xp"
      },
      "cell_type": "markdown",
      "source": [
        "**Problem:** Consider the following code (almost identical to the last problem):\n",
        "\n",
        "```python\n",
        "l = 3.141\n",
        "s = 'hello'\n",
        "\n",
        "l = s\n",
        "\n",
        "s = s + ' world'\n",
        "print('s is now:', s)\n",
        "print('l is now:', l)\n",
        "```\n",
        "\n",
        "The output of this code is\n",
        "\n",
        "```\n",
        "s is now: hello world\n",
        "l is now: hello\n",
        "```\n",
        "\n",
        "\n",
        "Question: Wait what?? This code is almost exactly the same, but now `s` and `l` are different. Explain.\n",
        "\n",
        "> Hint: your answer should include an explanation of mutable vs. immutable types"
      ]
    },
    {
      "metadata": {
        "id": "4kTn1n7V-bNI",
        "colab_type": "text"
      },
      "cell_type": "markdown",
      "source": [
        "#Type **your answer** here:"
      ]
    },
    {
      "metadata": {
        "colab_type": "text",
        "id": "fYzFijLYspXS"
      },
      "cell_type": "markdown",
      "source": [
        "## 04: Python Semantics: Operators"
      ]
    },
    {
      "metadata": {
        "colab_type": "text",
        "id": "wMB1_GFpBV8v"
      },
      "cell_type": "markdown",
      "source": [
        "**Problem:** Create a variable for the temperature in Celsius, ``deg_C`` and assign it to the integer``11``"
      ]
    },
    {
      "metadata": {
        "id": "t_DfESct-bNS",
        "colab_type": "code",
        "colab": {}
      },
      "cell_type": "code",
      "source": [
        "#Type your solution here"
      ],
      "execution_count": 0,
      "outputs": []
    },
    {
      "metadata": {
        "colab_type": "text",
        "id": "WMc_shTNspZr"
      },
      "cell_type": "markdown",
      "source": [
        "**Problem:** Convert ``deg_C`` to Fahrenheit, and assign it to ``deg_F``: \n",
        "\n",
        "> Hint: Celsius to Fahrenheit conversion is: ``9/5 x (deg_C) + 32``"
      ]
    },
    {
      "metadata": {
        "id": "BY5ET9SQ-bNd",
        "colab_type": "code",
        "colab": {}
      },
      "cell_type": "code",
      "source": [
        "#Type your solution here"
      ],
      "execution_count": 0,
      "outputs": []
    },
    {
      "metadata": {
        "colab_type": "text",
        "id": "Gp2_BfV4Czda"
      },
      "cell_type": "markdown",
      "source": [
        "**Problem:** Write an inequality test to see if it's freezing (is ``deg_F`` greater less than or equal to 32). The output should be ``True`` if it's freezing, ``False`` if it's not"
      ]
    },
    {
      "metadata": {
        "id": "9QSBECvw-bNl",
        "colab_type": "code",
        "colab": {}
      },
      "cell_type": "code",
      "source": [
        "#Type your solution here"
      ],
      "execution_count": 0,
      "outputs": []
    },
    {
      "metadata": {
        "colab_type": "text",
        "id": "Av04LahlEqom"
      },
      "cell_type": "markdown",
      "source": [
        "## 05: Python Semantics: Types"
      ]
    },
    {
      "metadata": {
        "colab_type": "text",
        "id": "WmUpN2gDD_Gq"
      },
      "cell_type": "markdown",
      "source": [
        "**Problem:** Check to see if ``deg_C`` and ``deg_F`` are equivalent variable types"
      ]
    },
    {
      "metadata": {
        "id": "zXFgXGAw-bNu",
        "colab_type": "code",
        "colab": {}
      },
      "cell_type": "code",
      "source": [
        "#Type your solution here"
      ],
      "execution_count": 0,
      "outputs": []
    },
    {
      "metadata": {
        "colab_type": "text",
        "id": "9N3uen3LEex9"
      },
      "cell_type": "markdown",
      "source": [
        "**Problem:** Are they the same type? Explain"
      ]
    },
    {
      "metadata": {
        "id": "nsnBW4IQ-bN2",
        "colab_type": "text"
      },
      "cell_type": "markdown",
      "source": [
        "#Type **your answer** here:"
      ]
    },
    {
      "metadata": {
        "colab_type": "text",
        "id": "l_ux4blqFxyM"
      },
      "cell_type": "markdown",
      "source": [
        "**Problem:** Create two variables, ``a`` and ``b`` and assign each of them to the integer ``3``"
      ]
    },
    {
      "metadata": {
        "id": "3GpE1Nve-bN6",
        "colab_type": "code",
        "colab": {}
      },
      "cell_type": "code",
      "source": [
        "#Type your solution here"
      ],
      "execution_count": 0,
      "outputs": []
    },
    {
      "metadata": {
        "colab_type": "text",
        "id": "7FN12Ii0GXIr"
      },
      "cell_type": "markdown",
      "source": [
        "**Problem:** Test to see if ``a`` and ``b`` are the same numerical value"
      ]
    },
    {
      "metadata": {
        "id": "jsdzdbXw-bOC",
        "colab_type": "code",
        "colab": {}
      },
      "cell_type": "code",
      "source": [
        "#Type your solution here"
      ],
      "execution_count": 0,
      "outputs": []
    },
    {
      "metadata": {
        "colab_type": "text",
        "id": "yNThVGgnGFD4"
      },
      "cell_type": "markdown",
      "source": [
        "**Problem:**\n",
        "\n",
        "1. Perform the following operation on a: `a = (a x 5.5) / 5.5`\n",
        "\n",
        "2. Perform the following operation on b: `b = (b x 12.2) / 12.2`"
      ]
    },
    {
      "metadata": {
        "id": "16IFY5E--bOK",
        "colab_type": "code",
        "colab": {}
      },
      "cell_type": "code",
      "source": [
        "#Type your solution here"
      ],
      "execution_count": 0,
      "outputs": []
    },
    {
      "metadata": {
        "colab_type": "text",
        "id": "MKeEJqn5G0qz"
      },
      "cell_type": "markdown",
      "source": [
        "**Problem:** Test again whether ``a`` and ``b`` are the same numerical value"
      ]
    },
    {
      "metadata": {
        "id": "LBotvTgL-bOV",
        "colab_type": "code",
        "colab": {}
      },
      "cell_type": "code",
      "source": [
        "#Type your solution here"
      ],
      "execution_count": 0,
      "outputs": []
    },
    {
      "metadata": {
        "colab_type": "text",
        "id": "seXjdSJZG9RL"
      },
      "cell_type": "markdown",
      "source": [
        "**Problem:** Explain the outcome in your own words"
      ]
    },
    {
      "metadata": {
        "id": "bvQFqW3U-bOl",
        "colab_type": "text"
      },
      "cell_type": "markdown",
      "source": [
        "#Type **your answer** here:"
      ]
    },
    {
      "metadata": {
        "colab_type": "text",
        "id": "S9z3oHfdHnp3"
      },
      "cell_type": "markdown",
      "source": [
        "**Problem:** \n",
        "\n",
        "1. Do ``a`` and ``b`` point to the same object in memory? \n",
        "2. How would you test this in  a line of code? "
      ]
    },
    {
      "metadata": {
        "id": "ijHFfPbi-bOv",
        "colab_type": "text"
      },
      "cell_type": "markdown",
      "source": [
        "#Type your answer to question 1., here (text)"
      ]
    },
    {
      "metadata": {
        "id": "T9-Wkjvd-bOz",
        "colab_type": "code",
        "colab": {}
      },
      "cell_type": "code",
      "source": [
        "#Type solution to 2., here (code)"
      ],
      "execution_count": 0,
      "outputs": []
    },
    {
      "metadata": {
        "id": "0Yyi8RRj-bPC",
        "colab_type": "code",
        "colab": {}
      },
      "cell_type": "code",
      "source": [
        ""
      ],
      "execution_count": 0,
      "outputs": []
    }
  ]
}